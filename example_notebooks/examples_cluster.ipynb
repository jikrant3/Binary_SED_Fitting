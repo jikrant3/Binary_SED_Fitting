{
 "cells": [
  {
   "cell_type": "markdown",
   "metadata": {},
   "source": [
    "# Example cluster fit"
   ]
  },
  {
   "cell_type": "markdown",
   "metadata": {},
   "source": [
    "⚠️🔴 ONLY FOR ADVANCE USERS 🔴⚠️\n",
    "\n",
    "Example of how multiple stars in a cluster can be fitted together\n",
    "\n",
    "- Create a star_param dictionary which stores the necessary parameters (e.g. filters_to_drop, wavelength_range_A, model_name, r_limit...)\n",
    "\n",
    "- Plots are not shown in the notebook (`show_plot=False`) to reduce clutter"
   ]
  },
  {
   "cell_type": "markdown",
   "metadata": {
    "vscode": {
     "languageId": "plaintext"
    }
   },
   "source": [
    "## Cluster and stellar parameters"
   ]
  },
  {
   "cell_type": "code",
   "execution_count": 6,
   "metadata": {},
   "outputs": [],
   "source": [
    "import src.binary_sed_fitting as bsf\n",
    "import importlib\n",
    "importlib.reload(bsf)\n",
    "import warnings\n",
    "warnings.filterwarnings(\"ignore\")\n",
    "################################################################################\n",
    "distance    = 831. # pc\n",
    "e_distance  = 11.  # pc"
   ]
  },
  {
   "cell_type": "code",
   "execution_count": 7,
   "metadata": {},
   "outputs": [],
   "source": [
    "optical_IR_wave_range = [3000,1_000_000_000]\n",
    "all_wave_range = [1,1_000_000_000]\n",
    "star_params = {'WOCS2002':{'filters_to_drop':['KPNO/Mosaic.I'],\n",
    "                           'wavelength_range_A':optical_IR_wave_range,\n",
    "                           'wavelength_range_B':all_wave_range,\n",
    "                           },\n",
    "               'Y1168':{'filters_to_drop':['2MASS/2MASS.J', '2MASS/2MASS.H', '2MASS/2MASS.Ks',\n",
    "                                              'WISE/WISE.W1','WISE/WISE.W2'],\n",
    "                           'wavelength_range_A':[2000,10_000_000],\n",
    "                           'wavelength_range_B':all_wave_range,\n",
    "                           },\n",
    "               'WOCS1007'   :{'filters_to_drop':[],\n",
    "                           'wavelength_range_A':optical_IR_wave_range,\n",
    "                           'wavelength_range_B':all_wave_range,\n",
    "                           }}"
   ]
  },
  {
   "cell_type": "markdown",
   "metadata": {
    "vscode": {
     "languageId": "plaintext"
    }
   },
   "source": [
    "## Fitting single SEDs"
   ]
  },
  {
   "cell_type": "code",
   "execution_count": 8,
   "metadata": {},
   "outputs": [
    {
     "name": "stdout",
     "output_type": "stream",
     "text": [
      "22:37:55 ----- WARNING  ----- calculate_chi2\n",
      "Give \"refit=True\" if you want to rerun the fitting process.\n",
      "22:37:55 ----- WARNING  ----- get_parameters_from_chi2_minimization\n",
      "Based on chi2, I recommend removal of following filters: ['GAIA/GAIA3.Grvs']; chi2=[19.2204403]\n",
      "22:37:55 ----- WARNING  ----- calculate_noisy_chi2\n",
      "Give \"refit=True\" if you want to rerun the fitting process.\n",
      "22:37:55 ----- WARNING  ----- calculate_chi2\n",
      "Give \"refit=True\" if you want to rerun the fitting process.\n",
      "22:37:55 ----- WARNING  ----- calculate_noisy_chi2\n",
      "Give \"refit=True\" if you want to rerun the fitting process.\n",
      "22:37:55 ----- WARNING  ----- get_realistic_errors_from_iterations\n",
      "logg_A : The best fit value is at upper limit of the model.\n",
      "22:37:56 ----- WARNING  ----- calculate_chi2\n",
      "Give \"refit=True\" if you want to rerun the fitting process.\n",
      "22:37:56 ----- WARNING  ----- calculate_noisy_chi2\n",
      "Give \"refit=True\" if you want to rerun the fitting process.\n"
     ]
    }
   ],
   "source": [
    "bsf.console.setLevel(bsf.logging.WARNING)\n",
    "\n",
    "refit = False\n",
    "run_name = '0'\n",
    "\n",
    "for name in star_params.keys():\n",
    "    file_name   = 'data/extinction_corrected_flux_files/%s.csv'%name\n",
    "    data        = bsf.load_data(file_name, mode='csv')\n",
    "    ################################################################################\n",
    "    if name == 'Y1168':\n",
    "        model_name = 'koester'\n",
    "        limits = {'Te'   : [5000, 80000],\n",
    "                  'logg' : [ 6.5,   9.5]}\n",
    "    else:\n",
    "        model_name = 'kurucz'\n",
    "        limits = {'Te'   : [3500, 9000],\n",
    "                  'logg' : [   3,    5],\n",
    "                  'MH'   : [ 0.0,  0.0],\n",
    "                  'alpha': [ 0.0,  0.0]}\n",
    "    model = bsf.Model(model_name, limits=limits)\n",
    "    ################################################################################\n",
    "    star = bsf.Star(name=name, \n",
    "                    distance=distance, \n",
    "                    e_distance=e_distance,\n",
    "                    filters_to_drop=star_params[name]['filters_to_drop'], \n",
    "                    wavelength_range=star_params[name]['wavelength_range_A'],\n",
    "                    data=data, \n",
    "                    model=model, \n",
    "                    r_limits='blackbody',     \n",
    "                    run_name=run_name)\n",
    "    ################################################################################\n",
    "    star.fit_chi2(refit=refit)\n",
    "    star.fit_noisy_chi2(refit=refit)\n",
    "    ################################################################################\n",
    "    star.plot_public(add_noisy_seds=False,\n",
    "                     show_plot=False, \n",
    "                     folder='plots/M67/',\n",
    "                     FR_cutoff=0.5)\n",
    "    star.save_summary()"
   ]
  },
  {
   "cell_type": "markdown",
   "metadata": {},
   "source": [
    "## Identifying stars with UV excess\n",
    "- Manually"
   ]
  },
  {
   "cell_type": "code",
   "execution_count": 9,
   "metadata": {},
   "outputs": [],
   "source": [
    "stars_with_uv_excess = ['WOCS2002', 'WOCS1007']"
   ]
  },
  {
   "cell_type": "markdown",
   "metadata": {
    "vscode": {
     "languageId": "plaintext"
    }
   },
   "source": [
    "## Fitting double SEDs"
   ]
  },
  {
   "cell_type": "code",
   "execution_count": 10,
   "metadata": {},
   "outputs": [
    {
     "name": "stdout",
     "output_type": "stream",
     "text": [
      "22:37:56 ----- WARNING  ----- calculate_chi2\n",
      "Give \"refit=True\" if you want to rerun the fitting process.\n",
      "22:37:56 ----- WARNING  ----- calculate_noisy_chi2\n",
      "Give \"refit=True\" if you want to rerun the fitting process.\n",
      "22:37:56 ----- WARNING  ----- get_realistic_errors_from_iterations\n",
      "logg_A : The best fit value is at upper limit of the model.\n",
      "22:37:56 ----- WARNING  ----- calculate_chi2\n",
      "Give \"refit=True\" if you want to rerun the fitting process.\n",
      "22:37:56 ----- WARNING  ----- get_parameters_from_chi2_minimization\n",
      "Based on chi2, I recommend removal of following filters: ['GALEX/GALEX.NUV']; chi2=[2582.21594585]\n",
      "22:37:56 ----- WARNING  ----- calculate_noisy_chi2\n",
      "Give \"refit=True\" if you want to rerun the fitting process.\n",
      "22:37:56 ----- WARNING  ----- get_realistic_errors_from_iterations\n",
      "logg_B : The best fit value is at upper limit of the model.\n",
      "22:37:56 ----- WARNING  ----- get_parameters_from_noisy_chi2_minimization\n",
      "Te_B (14750) != Te_median_B (14500) : Proceed with caution!\n",
      "22:37:57 ----- WARNING  ----- calculate_chi2\n",
      "Give \"refit=True\" if you want to rerun the fitting process.\n",
      "22:37:57 ----- WARNING  ----- calculate_noisy_chi2\n",
      "Give \"refit=True\" if you want to rerun the fitting process.\n",
      "22:37:57 ----- WARNING  ----- get_realistic_errors_from_iterations\n",
      "logg_A : The best fit value is at lower limit of the model.\n",
      "22:37:58 ----- WARNING  ----- calculate_chi2\n",
      "Give \"refit=True\" if you want to rerun the fitting process.\n",
      "22:37:58 ----- WARNING  ----- get_parameters_from_chi2_minimization\n",
      "Based on chi2, I recommend removal of following filters: ['GALEX/GALEX.NUV']; chi2=[754.58954018]\n",
      "22:37:58 ----- WARNING  ----- calculate_noisy_chi2\n",
      "Give \"refit=True\" if you want to rerun the fitting process.\n",
      "22:37:58 ----- WARNING  ----- get_realistic_errors_from_iterations\n",
      "Te_B : The best fit value is at upper limit of the model.\n"
     ]
    }
   ],
   "source": [
    "bsf.console.setLevel(bsf.logging.WARNING)\n",
    "\n",
    "refit = False\n",
    "run_name = '0'\n",
    "\n",
    "for name in stars_with_uv_excess:\n",
    "    file_name   = 'data/extinction_corrected_flux_files/%s.csv'%name\n",
    "    data        = bsf.load_data(file_name, mode='csv')\n",
    "    ################################################################################\n",
    "    model_name = 'kurucz_uvblue'\n",
    "    limits = {'Te'   : [3500, 9000],\n",
    "              'logg' : [   3,    5],\n",
    "              'MH'   : [ 0.0,  0.0]}\n",
    "    model_A = bsf.Model(model_name, limits=limits)\n",
    "\n",
    "    model_name = 'koester'\n",
    "    limits = {'Te'   : [5000, 80000],\n",
    "              'logg' : [ 6.5,  9.5]}\n",
    "    model_B = bsf.Model(model_name, limits=limits)\n",
    "    ################################################################################\n",
    "    star_system = bsf.System(name=name,\n",
    "                            distance=distance,\n",
    "                            e_distance=e_distance,\n",
    "                            data=data,\n",
    "                            run_name=run_name,\n",
    "                            filters_to_drop=star_params[name]['filters_to_drop'])\n",
    "    ################################################################################\n",
    "    star_system.setup_A_component(model=model_A, \n",
    "                                wavelength_range=star_params[name]['wavelength_range_A'],\n",
    "                                r_limits='blackbody')\n",
    "\n",
    "    star_system.A.fit_chi2(refit=refit)\n",
    "    star_system.A.fit_noisy_chi2(refit=refit)\n",
    "    ################################################################################\n",
    "    star_system.create_residual_star(component='B', \n",
    "                                    model=model_B,\n",
    "                                    wavelength_range=star_params[name]['wavelength_range_B'], \n",
    "                                    r_limits=[0.001,1.0])\n",
    "    star_system.B.fit_chi2(refit=refit)\n",
    "    star_system.B.fit_noisy_chi2(refit=refit)\n",
    "    ################################################################################\n",
    "    star_system.plot(add_noisy_seds=False, \n",
    "                     FR_cutoff=0.5,\n",
    "                     folder='plots/',\n",
    "                     show_plot=False)\n",
    "    star_system.save_summary()"
   ]
  }
 ],
 "metadata": {
  "kernelspec": {
   "display_name": "Python 3 (ipykernel)",
   "language": "python",
   "name": "python3"
  },
  "language_info": {
   "codemirror_mode": {
    "name": "ipython",
    "version": 3
   },
   "file_extension": ".py",
   "mimetype": "text/x-python",
   "name": "python",
   "nbconvert_exporter": "python",
   "pygments_lexer": "ipython3",
   "version": "3.9.5"
  },
  "varInspector": {
   "cols": {
    "lenName": 16,
    "lenType": 16,
    "lenVar": 40
   },
   "kernels_config": {
    "python": {
     "delete_cmd_postfix": "",
     "delete_cmd_prefix": "del ",
     "library": "var_list.py",
     "varRefreshCmd": "print(var_dic_list())"
    },
    "r": {
     "delete_cmd_postfix": ") ",
     "delete_cmd_prefix": "rm(",
     "library": "var_list.r",
     "varRefreshCmd": "cat(var_dic_list()) "
    }
   },
   "types_to_exclude": [
    "module",
    "function",
    "builtin_function_or_method",
    "instance",
    "_Feature"
   ],
   "window_display": false
  }
 },
 "nbformat": 4,
 "nbformat_minor": 2
}
