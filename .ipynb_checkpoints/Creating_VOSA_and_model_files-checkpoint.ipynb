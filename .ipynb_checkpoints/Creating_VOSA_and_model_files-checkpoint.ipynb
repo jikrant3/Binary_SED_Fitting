{
 "cells": [
  {
   "cell_type": "markdown",
   "metadata": {},
   "source": [
    "This file has 2 parts, run the one you want.\n",
    "\n",
    "VOSA requires following format for uploading the photometric information files\n",
    " ----------------------------------------------------------------------------\n",
    "| object  | RA  | DEC | dis | Av | filter | flux | error | pntopts | objopts |\n",
    "| ---     | --- | --- | --- | ---| ---    | ---  | ---   | ---     | ---     |\n",
    "| ---     | --- | --- | --- | ---| ---    | ---  | ---   | ---     | ---     |\n",
    "\n",
    "Identify the filters in the files you are uploading (create the \"filter_list\" accordingly)\n",
    "\n",
    "Create a file with \"name, ra, dec, magnitudes and magnitude errors\".\n",
    "This \"photomety_file\" be converted to VOSA format\n",
    "    Note: This code is for a cluster, hence distance and extinction is kept constant\n",
    "    \n",
    "The VOSA_input.txt file has magnitudes in the \"flux\" column. So while uploading to VOSA, keep \"file type\" as \"magnitudes\""
   ]
  },
  {
   "cell_type": "code",
   "execution_count": 1,
   "metadata": {},
   "outputs": [
    {
     "name": "stdout",
     "output_type": "stream",
     "text": [
      "['name', 'ra', 'dec', 'B', 'e_B', 'V', 'e_V', 'I', 'e_I', 'U', 'e_U', 'R', 'e_R', 'GALEX_NUV', 'e_GALEX_NUV', 'GALEX_FUV', 'e_GALEX_FUV', 'F148W', 'e_F148W', 'F154W', 'e_F154W', 'F169M', 'e_F169M']\n"
     ]
    }
   ],
   "source": [
    "# ---------------------------------------------------------------------- #\n",
    "# -------------------- Creating VOSA upload files ---------------------- #\n",
    "# ---------------------------------------------------------------------- #\n",
    "import pandas as pd\n",
    "\n",
    "DISTANCE = '831.76+-11'  # in pc\n",
    "A_V = 0.1736    # = 3.1*E(B-V)\n",
    "e_A_V = 0\n",
    "\n",
    "photomety_file = 'data/example_photomety_file.csv'    # Has name, ra, dec, magnitude, errors\n",
    "photometry = pd.read_csv(photomety_file, engine='python')\n",
    "print (list(photometry.columns.values))"
   ]
  },
  {
   "cell_type": "code",
   "execution_count": 3,
   "metadata": {
    "scrolled": false
   },
   "outputs": [
    {
     "name": "stdout",
     "output_type": "stream",
     "text": [
      "     object        RA      DEC         dis         Av               filter  \\\n",
      "0  WOCS2002  132.8492  11.8304  831.76+-11  0.1736+-0        KPNO/Mosaic.B   \n",
      "1  WOCS2002  132.8492  11.8304  831.76+-11  0.1736+-0        KPNO/Mosaic.V   \n",
      "2  WOCS2002  132.8492  11.8304  831.76+-11  0.1736+-0        KPNO/Mosaic.I   \n",
      "3  WOCS2002  132.8492  11.8304  831.76+-11  0.1736+-0        KPNO/Mosaic.U   \n",
      "4  WOCS2002  132.8492  11.8304  831.76+-11  0.1736+-0        KPNO/Mosaic.R   \n",
      "5  WOCS2002  132.8492  11.8304  831.76+-11  0.1736+-0      GALEX/GALEX.FUV   \n",
      "6  WOCS2002  132.8492  11.8304  831.76+-11  0.1736+-0      GALEX/GALEX.NUV   \n",
      "7  WOCS2002  132.8492  11.8304  831.76+-11  0.1736+-0  Astrosat/UVIT.F148W   \n",
      "8  WOCS2002  132.8492  11.8304  831.76+-11  0.1736+-0  Astrosat/UVIT.F154W   \n",
      "9  WOCS2002  132.8492  11.8304  831.76+-11  0.1736+-0  Astrosat/UVIT.F169M   \n",
      "\n",
      "     flux  error pntopts objopts  \n",
      "0    12.3    ---     ---     ---  \n",
      "1   11.54    ---     ---     ---  \n",
      "2   11.06    ---     ---     ---  \n",
      "3     ---    ---     ---     ---  \n",
      "4   11.06    ---     ---     ---  \n",
      "5     ---    ---     ---     ---  \n",
      "6     ---    ---     ---     ---  \n",
      "7  18.459  0.023     ---     ---  \n",
      "8   18.66  0.058     ---     ---  \n",
      "9  18.693  0.065     ---     ---  \n"
     ]
    },
    {
     "data": {
      "text/plain": [
       "'\\nNow upload the file at http://svo2.cab.inta-csic.es/theory/vosa/index.php?action=myfiles&otype=star&seeall= \\nMake sure to change the File type: To magnitude or Flux (jy) \\nKeep SED Type: Flux vs Lambda \\nSelect the file and search through VO for all possible detections Look at the SEDs, \\nPossibly remove some telescopes (SDSS creates problems most of the times)\\n'"
      ]
     },
     "execution_count": 3,
     "metadata": {},
     "output_type": "execute_result"
    }
   ],
   "source": [
    "# Make the three lists. 1) VOSA names for filters, 2)names of the magnitude colums, 3)names of the error column\n",
    "filter_list = ['KPNO/Mosaic.B', 'KPNO/Mosaic.V','KPNO/Mosaic.I', 'KPNO/Mosaic.U','KPNO/Mosaic.R','GALEX/GALEX.FUV','GALEX/GALEX.NUV','Astrosat/UVIT.F148W','Astrosat/UVIT.F154W','Astrosat/UVIT.F169M']\n",
    "mag_list = ['B', 'V', 'I','U','I','R','GALEX_NUV','GALEX_FUV','F148W','F154W','F169M']\n",
    "err_list = ['e_B', 'e_V', 'e_I','e_U','e_I','e_R','e_GALEX_NUV','e_GALEX_FUV','e_F148W','e_F154W','e_F169M']\n",
    "\n",
    "''' \n",
    "If one wants to calculate flux in jy instead of magnitudes:\n",
    "\n",
    "# create a zero_point_list with \"AB/VEGA magnitude zeropoints\" (http://svo2.cab.inta-csic.es/theory/fps/)\n",
    "zero_point_list = [3954.5,3632,2384.1,1681.2,2945.8,3631,3631,3631,3631,3631]\n",
    "\n",
    "flux_jy = zero_point_list[j]* 10**(-0.4*photometry[mag_list[j]][i])\n",
    "e_flux_jy = zero_point_list[j]* 10**(-0.4*(photometry[mag_list[j]][i]-photometry[err_list[j]][i])) - flux_jy\n",
    "calculate flux_jy and e_flux_jy in each loop.\n",
    "'''\n",
    "\n",
    "# combining data from all stars to make the VOSA upload file \n",
    "VOSA = pd.DataFrame(columns = ['object', 'RA', 'DEC','dis','Av','filter','flux','error','pntopts','objopts']) \n",
    "for i in range (0,len(photometry)):\n",
    "    for j in range (0,len(filter_list)):\n",
    "        VOSA = VOSA.append({'object': photometry['name'][i], \n",
    "                            'RA':photometry['ra'][i], \n",
    "                            'DEC':photometry['dec'][i],\n",
    "                            'dis':DISTANCE,\n",
    "                            'Av':str(A_V)+'+-'+str(e_A_V),\n",
    "                            'filter':filter_list[j],\n",
    "                            'flux':photometry[mag_list[j]][i],\n",
    "                            'error':photometry[err_list[j]][i],\n",
    "                            'pntopts':'---',\n",
    "                            'objopts': '---'},ignore_index = True)\n",
    "VOSA.fillna('---', inplace=True)\n",
    "\n",
    "print (VOSA)\n",
    "# VOSA.to_csv('data/example_VOSA_input_file.txt', header=None, index=None, sep=' ')\n",
    "'''\n",
    "Now upload the file at http://svo2.cab.inta-csic.es/theory/vosa/index.php?action=myfiles&otype=star&seeall= \n",
    "Make sure to change the File type: To magnitude or Flux (jy) \n",
    "Keep SED Type: Flux vs Lambda \n",
    "Select the file and search through VO for all possible detections Look at the SEDs, \n",
    "Possibly remove some telescopes (SDSS creates problems most of the times)\n",
    "'''"
   ]
  },
  {
   "cell_type": "code",
   "execution_count": 18,
   "metadata": {
    "scrolled": false
   },
   "outputs": [
    {
     "name": "stdout",
     "output_type": "stream",
     "text": [
      "700\n",
      "models/Koe_logg7.0.csv\n",
      "800\n",
      "models/Koe_logg8.0.csv\n",
      "900\n",
      "models/Koe_logg9.0.csv\n"
     ]
    }
   ],
   "source": [
    "# ---------------------------------------------------------------------- #\n",
    "# --------------- Creating Synthetic Photometry files ------------------ #\n",
    "#         Download synthetic photometry for all filters from             #  \n",
    "#        http://svo2.cab.inta-csic.es/theory/newov2/syph.php             #\n",
    "#                 unzip the files in \"models\" folder                     #\n",
    "# ---------------------------------------------------------------------- #\n",
    "\n",
    "import pandas as pd\n",
    "# For Kr models:\n",
    "#          logg is like: 3.0, 4.5, 5.0 etc.\n",
    "#          Z is m05 (-0.5), p00 (0), p05(0.5) etc.\n",
    "Kr_logg_list=['0.0','0.5','1.0','1.5','2.0','2.5','3.0','3.5','4.0','4.5','5.0']\n",
    "Kr_Z_list = ['m25','m20','m15','m10','m05','p00','p05']\n",
    "# I dont need all models, so I have used shorter lists\n",
    "Kr_logg_list=['3.0','3.5','4.0','4.5','5.0']\n",
    "Kr_Z_list = ['m05','p00','p05']\n",
    "# For Koe models:\n",
    "#          logg is like: 700, 750, 850 etc. (meaning 7,8,9 etc.)\n",
    "#          Z does not matter \n",
    "Koe_logg_list = ['650','675','700','725','750','775','800','825','850','875','900','925','950']\n",
    "Koe_logg_list = ['700','800','900']\n",
    "\n",
    "def create_synthetic_photometry(model,logg,Z):\n",
    "    if model=='Koe':     # List of all available temperatures for Koester model\n",
    "        temp_list=['05000','05250','05500','05750','06000','06250','06500','06750','07000','07250','07500','07750','08000','08250','08500','08750','09000','09250','09500','09750','10000','10250','10500','10750','11000','11250','11500','11750','12000','12250','12500','12750','13000','13250','13500','13750','14000','14250','14500','14750','15000','15250','15500','15750','16000','16250','16500','16750','17000','17250','17500','17750','18000','18250','18500','18750','19000','19250','19500','19750','20000','21000','22000','23000','24000','25000','26000','27000','28000','29000','30000','32000','34000','35000','36000','38000','40000','45000','50000','60000','70000','80000']\n",
    "    if model == 'Kr':    # List of all available temperatures for Kurucz model\n",
    "        temp_list=['3500','3750','4000','4250','4500','4750','5000','5250','5500','5750','6000','6250','6500','6750','7000','7250','7500','7750','8000','8250','8500','8750','9000','9250','9500','9750','10000','10250','10500','10750','11000','11250','11500','11750','12000','12250','12500','12750','13000','14000','15000','16000','17000','18000','19000','20000','21000','22000','23000','24000','25000','26000','27000','28000','29000','30000','31000','32000','33000','34000','35000','36000','37000','38000','39000','40000','41000','42000','43000','44000','45000','46000','47000','48000','49000','50000']\n",
    "\n",
    "    flux_model =  pd.DataFrame()\n",
    "\n",
    "    for i in range (0,len(temp_list)):\n",
    "        if model=='Koe':\n",
    "            _model_files = 'models/koester2_phot_1605778413.1972/koester2_da'+str(temp_list[i])+'_'+logg+'.dk.phot.dat'   # Check the names for logg, Z, model etc. \n",
    "        if model == 'Kr':\n",
    "            _model_files= 'models/Kurucz_phot_1605787543.3471/Kurucz_f'+Z+'k2odfnew.pck.teff='+str(temp_list[i])+'..logg='+logg+'0000.phot.dat'\n",
    "        if not os.path.isfile(_model_files):\n",
    "            #print (temp_list[i]),\n",
    "            pass\n",
    "        else:\n",
    "            _data_flux = pd.read_csv(_model_files,comment='#',engine='python', header=None, delim_whitespace= True,skipinitialspace=True)\n",
    "            _data_flux.columns = ['filter', 'wave', 'flux']\n",
    "            flux_model[temp_list[i]]=_data_flux['flux']    # Saving the flux from above file in a new dataframe as a single column\n",
    "\n",
    "    # adding the filter and wavelength as new columns    \n",
    "    flux_model['filter'] = _data_flux['filter']\n",
    "    flux_model['wave'] = _data_flux['wave']\n",
    "    flux_model = flux_model.sort_values(by=['wave'])\n",
    "    if model == 'Koe':\n",
    "        output_name = 'models/'+model+'_logg'+str(int(logg)/100.0)+'.csv'\n",
    "    if model =='Kr':\n",
    "        output_name = 'models/'+model+'_logg'+logg+'_Z'+Z+'.csv'\n",
    "    flux_model.to_csv(output_name, index=False)\n",
    "    print (output_name)\n",
    "\n",
    "# for logg in Kr_logg_list:\n",
    "#     for Z in Kr_Z_list:\n",
    "#         print (logg,Z)\n",
    "#         create_synthetic_photometry('Kr',logg,Z)\n",
    "for logg in Koe_logg_list:\n",
    "        print (logg)\n",
    "        Z='--'\n",
    "        create_synthetic_photometry('Koe',logg,Z)"
   ]
  }
 ],
 "metadata": {
  "kernelspec": {
   "display_name": "p36workshop",
   "language": "python",
   "name": "p36workshop"
  },
  "language_info": {
   "codemirror_mode": {
    "name": "ipython",
    "version": 2
   },
   "file_extension": ".py",
   "mimetype": "text/x-python",
   "name": "python",
   "nbconvert_exporter": "python",
   "pygments_lexer": "ipython2",
   "version": "2.7.15"
  }
 },
 "nbformat": 4,
 "nbformat_minor": 2
}
