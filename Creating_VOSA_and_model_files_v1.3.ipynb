{
 "cells": [
  {
   "cell_type": "markdown",
   "metadata": {},
   "source": [
    "This file has 2 parts, run the one you want.\n",
    "\n",
    "VOSA requires following format for uploading the photometric information files\n",
    " ----------------------------------------------------------------------------\n",
    "| object  | RA  | DEC | dis | Av | filter | flux | error | pntopts | objopts |\n",
    "| ---     | --- | --- | --- | ---| ---    | ---  | ---   | ---     | ---     |\n",
    "| ---     | --- | --- | --- | ---| ---    | ---  | ---   | ---     | ---     |\n",
    "\n",
    "Identify the filters in the files you are uploading (create the \"filter_list\" accordingly)\n",
    "\n",
    "Create a file with \"name, ra, dec, magnitudes and magnitude errors\".\n",
    "This \"photomety_file\" be converted to VOSA format\n",
    "    Note: This code is for a cluster, hence distance and extinction is kept constant\n",
    "    \n",
    "The VOSA_input.txt file has magnitudes in the \"flux\" column. So while uploading to VOSA, keep \"file type\" as \"magnitudes\""
   ]
  },
  {
   "cell_type": "code",
   "execution_count": 2,
   "metadata": {},
   "outputs": [
    {
     "name": "stdout",
     "output_type": "stream",
     "text": [
      "['name', 'ra', 'dec', 'B', 'e_B', 'V', 'e_V', 'I', 'e_I', 'U', 'e_U', 'R', 'e_R', 'GALEX_NUV', 'e_GALEX_NUV', 'GALEX_FUV', 'e_GALEX_FUV', 'F148W', 'e_F148W', 'F154W', 'e_F154W', 'F169M', 'e_F169M']\n"
     ]
    }
   ],
   "source": [
    "# ---------------------------------------------------------------------- #\n",
    "# -------------------- Creating VOSA upload files ---------------------- #\n",
    "# ---------------------------------------------------------------------- #\n",
    "import pandas as pd\n",
    "\n",
    "DISTANCE = '831.76+-11'  # in pc\n",
    "A_V = 0.1736    # = 3.1*E(B-V)\n",
    "e_A_V = 0\n",
    "\n",
    "photomety_file = 'data/example_photomety_file.csv'    # Has name, ra, dec, magnitude, errors\n",
    "photometry = pd.read_csv(photomety_file, engine='python')\n",
    "print (list(photometry.columns.values))"
   ]
  },
  {
   "cell_type": "code",
   "execution_count": 19,
   "metadata": {},
   "outputs": [
    {
     "data": {
      "text/plain": [
       "'\\n\\n'"
      ]
     },
     "execution_count": 19,
     "metadata": {},
     "output_type": "execute_result"
    }
   ],
   "source": [
    "# Make the three lists. 1) VOSA names for filters, 2)names of the magnitude colums, 3)names of the error column\n",
    "filter_list = ['KPNO/Mosaic.B', 'KPNO/Mosaic.V','KPNO/Mosaic.I', \n",
    "               'KPNO/Mosaic.U','KPNO/Mosaic.R','GALEX/GALEX.FUV',\n",
    "               'GALEX/GALEX.NUV','Astrosat/UVIT.F148W','Astrosat/UVIT.F154W',\n",
    "               'Astrosat/UVIT.F169M']\n",
    "mag_list = ['B', 'V', 'I',\n",
    "            'U','R','GALEX_NUV',\n",
    "            'GALEX_FUV','F148W','F154W',\n",
    "            'F169M']\n",
    "err_list = ['e_B', 'e_V', 'e_I',\n",
    "            'e_U','e_R','e_GALEX_NUV',\n",
    "            'e_GALEX_FUV','e_F148W','e_F154W',\n",
    "            'e_F169M']\n",
    "\n",
    "flux_type = 'mag'     # 'mag' or 'jy' or 'erg'\n",
    "'''\n",
    "mag --> the magnitudes of each filters assuming vega/AB type as same as http://svo2.cab.inta-csic.es/theory/fps/pavosa.php\n",
    "jy  --> flux density in jy. This requires use of zero_point_list approporiate for your filter\n",
    "erg --> flux density in erg/cm^2/s/A.\n",
    "'''\n",
    "# Update following values to your filters if you are not planning to upload in magnitudes \n",
    "zero_point_list_jy = [3954.5,3632,2384.1,\n",
    "                      1681.2,2945.8,3631,\n",
    "                      3631,3631,3631,\n",
    "                      3631]  # in jy\n",
    "zero_point_list_erg = [6.24076e-9,3.78104e-9,1.08913e-9,\n",
    "                       3.82411e-9,2.11969e-9,2.04929e-8,\n",
    "                       4.53663e-8,4.60576e-8,4.42378e-8,\n",
    "                       4.21999e-8]  # in erg/cm2/s/A\n",
    "wavelength = [4358.52,5366.30,8100.90,\n",
    "              3630.40,6454.66,2304.74,\n",
    "              1549.02,1481.00,1541.00,\n",
    "              1606.08] # effective wavelength in A"
   ]
  },
  {
   "cell_type": "code",
   "execution_count": 20,
   "metadata": {
    "scrolled": false
   },
   "outputs": [
    {
     "name": "stdout",
     "output_type": "stream",
     "text": [
      "     object        RA      DEC         dis         Av               filter  \\\n",
      "0  WOCS2002  132.8492  11.8304  831.76+-11  0.1736+-0        KPNO/Mosaic.B   \n",
      "1  WOCS2002  132.8492  11.8304  831.76+-11  0.1736+-0        KPNO/Mosaic.V   \n",
      "2  WOCS2002  132.8492  11.8304  831.76+-11  0.1736+-0        KPNO/Mosaic.I   \n",
      "3  WOCS2002  132.8492  11.8304  831.76+-11  0.1736+-0        KPNO/Mosaic.U   \n",
      "4  WOCS2002  132.8492  11.8304  831.76+-11  0.1736+-0        KPNO/Mosaic.R   \n",
      "5  WOCS2002  132.8492  11.8304  831.76+-11  0.1736+-0      GALEX/GALEX.FUV   \n",
      "6  WOCS2002  132.8492  11.8304  831.76+-11  0.1736+-0      GALEX/GALEX.NUV   \n",
      "7  WOCS2002  132.8492  11.8304  831.76+-11  0.1736+-0  Astrosat/UVIT.F148W   \n",
      "8  WOCS2002  132.8492  11.8304  831.76+-11  0.1736+-0  Astrosat/UVIT.F154W   \n",
      "9  WOCS2002  132.8492  11.8304  831.76+-11  0.1736+-0  Astrosat/UVIT.F169M   \n",
      "\n",
      "     flux  error pntopts objopts  \n",
      "0    12.3    ---     ---     ---  \n",
      "1   11.54    ---     ---     ---  \n",
      "2   11.06    ---     ---     ---  \n",
      "3     ---    ---     ---     ---  \n",
      "4     ---    ---     ---     ---  \n",
      "5     ---    ---     ---     ---  \n",
      "6  18.459  0.023     ---     ---  \n",
      "7   18.66  0.058     ---     ---  \n",
      "8  18.693  0.065     ---     ---  \n",
      "9  18.582  0.058     ---     ---  \n"
     ]
    },
    {
     "data": {
      "text/plain": [
       "'\\nNow upload the file at http://svo2.cab.inta-csic.es/theory/vosa/index.php?action=myfiles&otype=star&seeall= \\nMake sure to change the File type: To magnitude or Flux (jy) or Flux (erg) accordingly \\nKeep SED Type: Flux vs Lambda \\nSelect the file and search through VO for all possible detections Look at the SEDs, \\nPossibly remove some telescopes (SDSS creates problems most of the times)\\n'"
      ]
     },
     "execution_count": 20,
     "metadata": {},
     "output_type": "execute_result"
    }
   ],
   "source": [
    "# combining data from all stars to make the VOSA upload file \n",
    "VOSA = pd.DataFrame(columns = ['object', 'RA', 'DEC','dis','Av','filter','flux','error','pntopts','objopts']) \n",
    "for i in range (0,len(photometry)):\n",
    "    for j in range (0,len(filter_list)):\n",
    "        if flux_type=='mag':\n",
    "            flux = photometry[mag_list[j]][i]\n",
    "            error = photometry[err_list[j]][i]\n",
    "        if flux_type =='jy': # please note that the magnitude errors are asymmetric in nature when converted to flux\n",
    "            flux = zero_point_list_jy[j]* 10**(-0.4*photometry[mag_list[j]][i])\n",
    "            error = zero_point_list_jy[j]* 10**(-0.4*(photometry[mag_list[j]][i]-photometry[err_list[j]][i])) - flux\n",
    "        if flux_type == 'erg': # please note that the magnitude errors are asymmetric in nature when converted to flux\n",
    "            flux = zero_point_list_erg[j]* 10**(-0.4*photometry[mag_list[j]][i])\n",
    "            error = zero_point_list_erg[j]* 10**(-0.4*(photometry[mag_list[j]][i]-photometry[err_list[j]][i])) - flux            \n",
    "            \n",
    "        VOSA = VOSA.append({'object': photometry['name'][i], \n",
    "                            'RA':photometry['ra'][i], \n",
    "                            'DEC':photometry['dec'][i],\n",
    "                            'dis':DISTANCE,\n",
    "                            'Av':str(A_V)+'+-'+str(e_A_V),\n",
    "                            'filter':filter_list[j],\n",
    "                            'flux':flux,\n",
    "                            'error':error,\n",
    "                            'pntopts':'---',\n",
    "                            'objopts': '---'},ignore_index = True)\n",
    "VOSA.fillna('---', inplace=True)\n",
    "\n",
    "print (VOSA)\n",
    "VOSA.to_csv('data/example_VOSA_input_file_'+flux_type+'.txt', header=None, index=None, sep=' ')\n",
    "'''\n",
    "Now upload the file at http://svo2.cab.inta-csic.es/theory/vosa/index.php?action=myfiles&otype=star&seeall= \n",
    "Make sure to change the File type: To magnitude or Flux (jy) or Flux (erg) accordingly \n",
    "Keep SED Type: Flux vs Lambda \n",
    "Select the file and search through VO for all possible detections Look at the SEDs, \n",
    "Possibly remove some telescopes (SDSS creates problems most of the times)\n",
    "'''"
   ]
  },
  {
   "cell_type": "markdown",
   "metadata": {},
   "source": [
    "# Creating Synthetic Photometry model files\n",
    "- Download synthetic photometry for all filters from http://svo2.cab.inta-csic.es/theory/newov2/syph.php  \n",
    "- unzip the files in \"models\" folder\n",
    "- Use following code to combine the individual files (of each temperature) into a single file for particular model parameters."
   ]
  },
  {
   "cell_type": "code",
   "execution_count": 1,
   "metadata": {
    "ExecuteTime": {
     "end_time": "2022-01-19T14:19:06.673624Z",
     "start_time": "2022-01-19T14:19:02.651510Z"
    }
   },
   "outputs": [],
   "source": [
    "import os\n",
    "import pandas as pd\n",
    "\n",
    "def create_synthetic_photometry(model,logg,Z,save=True,verbose=False):\n",
    "    '''\n",
    "    Reads files for individual temperatures and creates a single file for a specific model based on Z, logg and model\n",
    "    '''\n",
    "    if model=='Koe':     # List of all available temperatures for Koester model\n",
    "        Teff_list=['05000','05250','05500','05750','06000','06250','06500','06750','07000','07250','07500','07750','08000','08250','08500','08750','09000','09250','09500','09750','10000','10250','10500','10750','11000','11250','11500','11750','12000','12250','12500','12750','13000','13250','13500','13750','14000','14250','14500','14750','15000','15250','15500','15750','16000','16250','16500','16750','17000','17250','17500','17750','18000','18250','18500','18750','19000','19250','19500','19750','20000','21000','22000','23000','24000','25000','26000','27000','28000','29000','30000','32000','34000','35000','36000','38000','40000','45000','50000','60000','70000','80000']\n",
    "    if model == 'Kr':    # List of all available temperatures for Kurucz model\n",
    "        Teff_list=['3500','3750','4000','4250','4500','4750','5000','5250','5500','5750','6000','6250','6500','6750','7000','7250','7500','7750','8000','8250','8500','8750','9000','9250','9500','9750','10000','10250','10500','10750','11000','11250','11500','11750','12000','12250','12500','12750','13000','14000','15000','16000','17000','18000','19000','20000','21000','22000','23000','24000','25000','26000','27000','28000','29000','30000','31000','32000','33000','34000','35000','36000','37000','38000','39000','40000','41000','42000','43000','44000','45000','46000','47000','48000','49000','50000']\n",
    "        \n",
    "    flux_model =  pd.DataFrame()\n",
    "\n",
    "    for i, Teff in enumerate(Teff_list):\n",
    "        if model=='Koe':\n",
    "            _model_files = 'C:/Users/Zert W/Desktop/python/Synthetic_photometry_models/koester2_phot_1605778413.1972/koester2_da'+str(Teff)+'_'+logg+'.dk.phot.dat'   # Check the names for logg, Z, model etc. \n",
    "        if model == 'Kr':\n",
    "            _model_files= 'C:/Users/Zert W/Desktop/python/Synthetic_photometry_models/Kurucz_phot_1605787543.3471/Kurucz_f'+Z+'k2odfnew.pck.teff='+str(Teff)+'..logg='+logg+'0000.phot.dat'\n",
    "        if not os.path.isfile(_model_files):\n",
    "            #print (Teff_list[i]),\n",
    "            pass\n",
    "        else:\n",
    "            _data_flux = pd.read_csv(_model_files,comment='#',engine='python', header=None, delim_whitespace= True,skipinitialspace=True)\n",
    "            _data_flux.columns = ['filter', 'wave', 'flux']\n",
    "            _data_flux = _data_flux.set_index('filter')\n",
    "            if i==0:\n",
    "                flux_model['filter'] = _data_flux.index\n",
    "                flux_model = flux_model.set_index('filter')\n",
    "                flux_model['wave'] = _data_flux['wave']\n",
    "            # remove leading zeros using lstrip\n",
    "            new_column_name = Teff.lstrip(\"0\")\n",
    "            # Saving the flux from above file in a new dataframe as a single column\n",
    "            flux_model[new_column_name]=_data_flux['flux']    \n",
    "            \n",
    "    flux_model = flux_model.sort_values(by=['wave'])\n",
    "    # remove filters without wavelengths\n",
    "    flux_model = flux_model[flux_model.wave>0.0]\n",
    "    # replacing all negative flux values with nan\n",
    "    flux_model[flux_model < 0] = np.nan\n",
    "    \n",
    "    if model == 'Koe':\n",
    "        output_name = 'models/'+model+'_logg'+str(int(logg)/100.0)+'.csv'\n",
    "    if model =='Kr':\n",
    "        output_name = 'models/'+model+'_logg'+logg+'_Z'+Z+'.csv'\n",
    "    if save:\n",
    "        flux_model.to_csv(output_name, index=True)\n",
    "    \n",
    "    print (output_name)\n",
    "    return flux_model"
   ]
  },
  {
   "cell_type": "markdown",
   "metadata": {},
   "source": [
    "## Creating Kurucz model"
   ]
  },
  {
   "cell_type": "code",
   "execution_count": 2,
   "metadata": {
    "ExecuteTime": {
     "end_time": "2022-01-19T14:28:34.843481Z",
     "start_time": "2022-01-19T14:19:06.695932Z"
    },
    "collapsed": true
   },
   "outputs": [
    {
     "name": "stdout",
     "output_type": "stream",
     "text": [
      "0.0 m25\n",
      "models/Kr_logg0.0_Zm25.csv\n",
      "0.0 m20\n",
      "models/Kr_logg0.0_Zm20.csv\n",
      "0.0 m15\n",
      "models/Kr_logg0.0_Zm15.csv\n",
      "0.0 m10\n",
      "models/Kr_logg0.0_Zm10.csv\n",
      "0.0 m05\n",
      "models/Kr_logg0.0_Zm05.csv\n",
      "0.0 p00\n",
      "models/Kr_logg0.0_Zp00.csv\n",
      "0.0 p05\n",
      "models/Kr_logg0.0_Zp05.csv\n",
      "0.5 m25\n",
      "models/Kr_logg0.5_Zm25.csv\n",
      "0.5 m20\n",
      "models/Kr_logg0.5_Zm20.csv\n",
      "0.5 m15\n",
      "models/Kr_logg0.5_Zm15.csv\n",
      "0.5 m10\n",
      "models/Kr_logg0.5_Zm10.csv\n",
      "0.5 m05\n",
      "models/Kr_logg0.5_Zm05.csv\n",
      "0.5 p00\n",
      "models/Kr_logg0.5_Zp00.csv\n",
      "0.5 p05\n",
      "models/Kr_logg0.5_Zp05.csv\n",
      "1.0 m25\n",
      "models/Kr_logg1.0_Zm25.csv\n",
      "1.0 m20\n",
      "models/Kr_logg1.0_Zm20.csv\n",
      "1.0 m15\n",
      "models/Kr_logg1.0_Zm15.csv\n",
      "1.0 m10\n",
      "models/Kr_logg1.0_Zm10.csv\n",
      "1.0 m05\n",
      "models/Kr_logg1.0_Zm05.csv\n",
      "1.0 p00\n",
      "models/Kr_logg1.0_Zp00.csv\n",
      "1.0 p05\n",
      "models/Kr_logg1.0_Zp05.csv\n",
      "1.5 m25\n",
      "models/Kr_logg1.5_Zm25.csv\n",
      "1.5 m20\n",
      "models/Kr_logg1.5_Zm20.csv\n",
      "1.5 m15\n",
      "models/Kr_logg1.5_Zm15.csv\n",
      "1.5 m10\n",
      "models/Kr_logg1.5_Zm10.csv\n",
      "1.5 m05\n",
      "models/Kr_logg1.5_Zm05.csv\n",
      "1.5 p00\n",
      "models/Kr_logg1.5_Zp00.csv\n",
      "1.5 p05\n",
      "models/Kr_logg1.5_Zp05.csv\n",
      "2.0 m25\n",
      "models/Kr_logg2.0_Zm25.csv\n",
      "2.0 m20\n",
      "models/Kr_logg2.0_Zm20.csv\n",
      "2.0 m15\n",
      "models/Kr_logg2.0_Zm15.csv\n",
      "2.0 m10\n",
      "models/Kr_logg2.0_Zm10.csv\n",
      "2.0 m05\n",
      "models/Kr_logg2.0_Zm05.csv\n",
      "2.0 p00\n",
      "models/Kr_logg2.0_Zp00.csv\n",
      "2.0 p05\n",
      "models/Kr_logg2.0_Zp05.csv\n",
      "2.5 m25\n",
      "models/Kr_logg2.5_Zm25.csv\n",
      "2.5 m20\n",
      "models/Kr_logg2.5_Zm20.csv\n",
      "2.5 m15\n",
      "models/Kr_logg2.5_Zm15.csv\n",
      "2.5 m10\n",
      "models/Kr_logg2.5_Zm10.csv\n",
      "2.5 m05\n",
      "models/Kr_logg2.5_Zm05.csv\n",
      "2.5 p00\n",
      "models/Kr_logg2.5_Zp00.csv\n",
      "2.5 p05\n",
      "models/Kr_logg2.5_Zp05.csv\n",
      "3.0 m25\n",
      "models/Kr_logg3.0_Zm25.csv\n",
      "3.0 m20\n",
      "models/Kr_logg3.0_Zm20.csv\n",
      "3.0 m15\n",
      "models/Kr_logg3.0_Zm15.csv\n",
      "3.0 m10\n",
      "models/Kr_logg3.0_Zm10.csv\n",
      "3.0 m05\n",
      "models/Kr_logg3.0_Zm05.csv\n",
      "3.0 p00\n",
      "models/Kr_logg3.0_Zp00.csv\n",
      "3.0 p05\n",
      "models/Kr_logg3.0_Zp05.csv\n",
      "3.5 m25\n",
      "models/Kr_logg3.5_Zm25.csv\n",
      "3.5 m20\n",
      "models/Kr_logg3.5_Zm20.csv\n",
      "3.5 m15\n",
      "models/Kr_logg3.5_Zm15.csv\n",
      "3.5 m10\n",
      "models/Kr_logg3.5_Zm10.csv\n",
      "3.5 m05\n",
      "models/Kr_logg3.5_Zm05.csv\n",
      "3.5 p00\n",
      "models/Kr_logg3.5_Zp00.csv\n",
      "3.5 p05\n",
      "models/Kr_logg3.5_Zp05.csv\n",
      "4.0 m25\n",
      "models/Kr_logg4.0_Zm25.csv\n",
      "4.0 m20\n",
      "models/Kr_logg4.0_Zm20.csv\n",
      "4.0 m15\n",
      "models/Kr_logg4.0_Zm15.csv\n",
      "4.0 m10\n",
      "models/Kr_logg4.0_Zm10.csv\n",
      "4.0 m05\n",
      "models/Kr_logg4.0_Zm05.csv\n",
      "4.0 p00\n",
      "models/Kr_logg4.0_Zp00.csv\n",
      "4.0 p05\n",
      "models/Kr_logg4.0_Zp05.csv\n",
      "4.5 m25\n",
      "models/Kr_logg4.5_Zm25.csv\n",
      "4.5 m20\n",
      "models/Kr_logg4.5_Zm20.csv\n",
      "4.5 m15\n",
      "models/Kr_logg4.5_Zm15.csv\n",
      "4.5 m10\n",
      "models/Kr_logg4.5_Zm10.csv\n",
      "4.5 m05\n",
      "models/Kr_logg4.5_Zm05.csv\n",
      "4.5 p00\n",
      "models/Kr_logg4.5_Zp00.csv\n",
      "4.5 p05\n",
      "models/Kr_logg4.5_Zp05.csv\n",
      "5.0 m25\n",
      "models/Kr_logg5.0_Zm25.csv\n",
      "5.0 m20\n",
      "models/Kr_logg5.0_Zm20.csv\n",
      "5.0 m15\n",
      "models/Kr_logg5.0_Zm15.csv\n",
      "5.0 m10\n",
      "models/Kr_logg5.0_Zm10.csv\n",
      "5.0 m05\n",
      "models/Kr_logg5.0_Zm05.csv\n",
      "5.0 p00\n",
      "models/Kr_logg5.0_Zp00.csv\n",
      "5.0 p05\n",
      "models/Kr_logg5.0_Zp05.csv\n"
     ]
    }
   ],
   "source": [
    "# For Kr models:\n",
    "#          logg is written as: 3.0, 4.5, 5.0 etc.\n",
    "#          Z is written as m05 (-0.5), p00 (0), p05(0.5) etc.\n",
    "Kr_logg_list=['0.0','0.5','1.0','1.5','2.0','2.5','3.0','3.5','4.0','4.5','5.0']\n",
    "Kr_Z_list = ['m25','m20','m15','m10','m05','p00','p05']\n",
    "\n",
    "for logg in Kr_logg_list:\n",
    "    for Z in Kr_Z_list:\n",
    "        print (logg,Z)\n",
    "        create_synthetic_photometry('Kr',logg,Z)\n"
   ]
  },
  {
   "cell_type": "markdown",
   "metadata": {},
   "source": [
    "## Creating Koester model"
   ]
  },
  {
   "cell_type": "code",
   "execution_count": 29,
   "metadata": {
    "ExecuteTime": {
     "end_time": "2022-01-19T12:01:09.509657Z",
     "start_time": "2022-01-19T11:59:22.686729Z"
    },
    "collapsed": true
   },
   "outputs": [
    {
     "name": "stdout",
     "output_type": "stream",
     "text": [
      "650\n",
      "models/Koe_logg6.5.csv\n",
      "675\n",
      "models/Koe_logg6.75.csv\n",
      "700\n",
      "models/Koe_logg7.0.csv\n",
      "725\n",
      "models/Koe_logg7.25.csv\n",
      "750\n",
      "models/Koe_logg7.5.csv\n",
      "775\n",
      "models/Koe_logg7.75.csv\n",
      "800\n",
      "models/Koe_logg8.0.csv\n",
      "825\n",
      "models/Koe_logg8.25.csv\n",
      "850\n",
      "models/Koe_logg8.5.csv\n",
      "875\n",
      "models/Koe_logg8.75.csv\n",
      "900\n",
      "models/Koe_logg9.0.csv\n",
      "925\n",
      "models/Koe_logg9.25.csv\n",
      "950\n",
      "models/Koe_logg9.5.csv\n"
     ]
    }
   ],
   "source": [
    "# For Koe models:\n",
    "#          logg is written as: 700, 750, 850 etc. (meaning 7,8,9 etc.)\n",
    "#          Z does not matter \n",
    "Koe_logg_list = ['650','675','700','725','750','775','800','825','850','875','900','925','950']\n",
    "\n",
    "for logg in Koe_logg_list:\n",
    "    print (logg)\n",
    "    Z='--'\n",
    "    create_synthetic_photometry('Koe',logg,Z)"
   ]
  }
 ],
 "metadata": {
  "kernelspec": {
   "display_name": "Python 3 (ipykernel)",
   "language": "python",
   "name": "python3"
  },
  "language_info": {
   "codemirror_mode": {
    "name": "ipython",
    "version": 3
   },
   "file_extension": ".py",
   "mimetype": "text/x-python",
   "name": "python",
   "nbconvert_exporter": "python",
   "pygments_lexer": "ipython3",
   "version": "3.9.5"
  },
  "varInspector": {
   "cols": {
    "lenName": 16,
    "lenType": 16,
    "lenVar": 40
   },
   "kernels_config": {
    "python": {
     "delete_cmd_postfix": "",
     "delete_cmd_prefix": "del ",
     "library": "var_list.py",
     "varRefreshCmd": "print(var_dic_list())"
    },
    "r": {
     "delete_cmd_postfix": ") ",
     "delete_cmd_prefix": "rm(",
     "library": "var_list.r",
     "varRefreshCmd": "cat(var_dic_list()) "
    }
   },
   "types_to_exclude": [
    "module",
    "function",
    "builtin_function_or_method",
    "instance",
    "_Feature"
   ],
   "window_display": false
  }
 },
 "nbformat": 4,
 "nbformat_minor": 2
}
